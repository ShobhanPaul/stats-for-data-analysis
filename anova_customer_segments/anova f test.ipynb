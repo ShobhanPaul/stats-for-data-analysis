{
 "cells": [
  {
   "cell_type": "code",
   "execution_count": 4,
   "id": "e6d2320c-2376-4ad2-9793-8d6716d0f624",
   "metadata": {
    "scrolled": true
   },
   "outputs": [
    {
     "data": {
      "text/html": [
       "<div>\n",
       "<style scoped>\n",
       "    .dataframe tbody tr th:only-of-type {\n",
       "        vertical-align: middle;\n",
       "    }\n",
       "\n",
       "    .dataframe tbody tr th {\n",
       "        vertical-align: top;\n",
       "    }\n",
       "\n",
       "    .dataframe thead th {\n",
       "        text-align: right;\n",
       "    }\n",
       "</style>\n",
       "<table border=\"1\" class=\"dataframe\">\n",
       "  <thead>\n",
       "    <tr style=\"text-align: right;\">\n",
       "      <th></th>\n",
       "      <th>Segment</th>\n",
       "      <th>Purchase_Amount</th>\n",
       "    </tr>\n",
       "  </thead>\n",
       "  <tbody>\n",
       "    <tr>\n",
       "      <th>0</th>\n",
       "      <td>Bronze</td>\n",
       "      <td>54.967142</td>\n",
       "    </tr>\n",
       "    <tr>\n",
       "      <th>1</th>\n",
       "      <td>Bronze</td>\n",
       "      <td>48.617357</td>\n",
       "    </tr>\n",
       "    <tr>\n",
       "      <th>2</th>\n",
       "      <td>Bronze</td>\n",
       "      <td>56.476885</td>\n",
       "    </tr>\n",
       "    <tr>\n",
       "      <th>3</th>\n",
       "      <td>Bronze</td>\n",
       "      <td>65.230299</td>\n",
       "    </tr>\n",
       "    <tr>\n",
       "      <th>4</th>\n",
       "      <td>Bronze</td>\n",
       "      <td>47.658466</td>\n",
       "    </tr>\n",
       "    <tr>\n",
       "      <th>...</th>\n",
       "      <td>...</td>\n",
       "      <td>...</td>\n",
       "    </tr>\n",
       "    <tr>\n",
       "      <th>85</th>\n",
       "      <td>Gold</td>\n",
       "      <td>72.473644</td>\n",
       "    </tr>\n",
       "    <tr>\n",
       "      <th>86</th>\n",
       "      <td>Gold</td>\n",
       "      <td>93.731032</td>\n",
       "    </tr>\n",
       "    <tr>\n",
       "      <th>87</th>\n",
       "      <td>Gold</td>\n",
       "      <td>84.931267</td>\n",
       "    </tr>\n",
       "    <tr>\n",
       "      <th>88</th>\n",
       "      <td>Gold</td>\n",
       "      <td>72.053597</td>\n",
       "    </tr>\n",
       "    <tr>\n",
       "      <th>89</th>\n",
       "      <td>Gold</td>\n",
       "      <td>87.699011</td>\n",
       "    </tr>\n",
       "  </tbody>\n",
       "</table>\n",
       "<p>90 rows × 2 columns</p>\n",
       "</div>"
      ],
      "text/plain": [
       "   Segment  Purchase_Amount\n",
       "0   Bronze        54.967142\n",
       "1   Bronze        48.617357\n",
       "2   Bronze        56.476885\n",
       "3   Bronze        65.230299\n",
       "4   Bronze        47.658466\n",
       "..     ...              ...\n",
       "85    Gold        72.473644\n",
       "86    Gold        93.731032\n",
       "87    Gold        84.931267\n",
       "88    Gold        72.053597\n",
       "89    Gold        87.699011\n",
       "\n",
       "[90 rows x 2 columns]"
      ]
     },
     "execution_count": 4,
     "metadata": {},
     "output_type": "execute_result"
    }
   ],
   "source": [
    "import pandas as pd\n",
    "import numpy as np\n",
    "\n",
    "# Set seed for reproducibility\n",
    "np.random.seed(42)\n",
    "\n",
    "# Simulate purchase amounts for 3 customer segments\n",
    "bronze_purchases = np.random.normal(loc=50, scale=10, size=30)\n",
    "silver_purchases = np.random.normal(loc=65, scale=12, size=30)\n",
    "gold_purchases = np.random.normal(loc=80, scale=15, size=30)\n",
    "\n",
    "# Create DataFrame\n",
    "df_anova = pd.DataFrame({\n",
    "    'Segment': ['Bronze'] * 30 + ['Silver'] * 30 + ['Gold'] * 30,\n",
    "    'Purchase_Amount': np.concatenate([bronze_purchases, silver_purchases, gold_purchases])\n",
    "})\n",
    "df_anova"
   ]
  },
  {
   "cell_type": "code",
   "execution_count": 10,
   "id": "268e62ea-a558-4410-9fbb-88260571f32f",
   "metadata": {},
   "outputs": [
    {
     "data": {
      "text/plain": [
       "54.20471673148835"
      ]
     },
     "execution_count": 10,
     "metadata": {},
     "output_type": "execute_result"
    }
   ],
   "source": [
    "bronze = df_anova[df_anova['Segment'] == 'Bronze']['Purchase_Amount']\n",
    "silver = df_anova[df_anova['Segment'] == 'Silver']['Purchase_Amount']\n",
    "gold = df_anova[df_anova['Segment'] == 'Gold']['Purchase_Amount']\n",
    "from scipy.stats import f_oneway\n",
    "f_stat,p_value=f_oneway(bronze,silver,gold)\n",
    "f_stat"
   ]
  },
  {
   "cell_type": "code",
   "execution_count": 12,
   "id": "01ca560e-cb99-4b14-8b35-2ed5f72b33f9",
   "metadata": {},
   "outputs": [
    {
     "data": {
      "text/plain": [
       "5.163653889699995e-16"
      ]
     },
     "execution_count": 12,
     "metadata": {},
     "output_type": "execute_result"
    }
   ],
   "source": [
    "p_value"
   ]
  },
  {
   "cell_type": "code",
   "execution_count": 14,
   "id": "cee1bd7e-4c84-4b7a-836d-763f5a726fc1",
   "metadata": {},
   "outputs": [],
   "source": [
    "# p_value < 0.05 so, I interprit that if the null hypothesis was true, then there is less than 5% chance that I would see a mean\n",
    "# difference as extreme as this just by randomness so I reject the null hypothesis so, atleast one of the mean is different than\n",
    "# other 2."
   ]
  },
  {
   "cell_type": "code",
   "execution_count": 18,
   "id": "7dfe644f-65ee-40ab-8e12-bdca0ce1774f",
   "metadata": {},
   "outputs": [
    {
     "name": "stdout",
     "output_type": "stream",
     "text": [
      "Multiple Comparison of Means - Tukey HSD, FWER=0.05 \n",
      "====================================================\n",
      "group1 group2 meandiff p-adj  lower    upper  reject\n",
      "----------------------------------------------------\n",
      "Bronze   Gold  32.0747   0.0  24.7274  39.422   True\n",
      "Bronze Silver  15.4275   0.0   8.0802 22.7748   True\n",
      "  Gold Silver -16.6472   0.0 -23.9945 -9.2999   True\n",
      "----------------------------------------------------\n"
     ]
    }
   ],
   "source": [
    "from statsmodels.stats.multicomp import pairwise_tukeyhsd\n",
    "tukey=pairwise_tukeyhsd(endog=df_anova['Purchase_Amount'],groups=df_anova['Segment'],alpha=0.05)\n",
    "print(tukey)"
   ]
  },
  {
   "cell_type": "markdown",
   "id": "088a8614-4a51-42cf-a6ef-923623641947",
   "metadata": {},
   "source": [
    "so we conclude that Gold purchase amounts are significantly greater than Bronze purchase amounts,\n",
    "Silver purchase amounts are significantly greater than Bronze purchase amounts,\n",
    "Gold purchase amounts are significantly greater than Silver purchase amounts not just due to randomness."
   ]
  },
  {
   "cell_type": "code",
   "execution_count": null,
   "id": "88feeceb-ce34-4973-a097-b2a7f6302aa0",
   "metadata": {},
   "outputs": [],
   "source": []
  }
 ],
 "metadata": {
  "kernelspec": {
   "display_name": "Python (snowflakes)",
   "language": "python",
   "name": "python3"
  },
  "language_info": {
   "codemirror_mode": {
    "name": "ipython",
    "version": 3
   },
   "file_extension": ".py",
   "mimetype": "text/x-python",
   "name": "python",
   "nbconvert_exporter": "python",
   "pygments_lexer": "ipython3",
   "version": "3.12.9"
  }
 },
 "nbformat": 4,
 "nbformat_minor": 5
}
