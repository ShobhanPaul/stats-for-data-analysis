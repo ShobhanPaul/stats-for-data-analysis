{
 "cells": [
  {
   "cell_type": "code",
   "execution_count": 3,
   "id": "30829ca8-5244-4ac8-8b97-677bd926b170",
   "metadata": {},
   "outputs": [
    {
     "data": {
      "text/html": [
       "<div>\n",
       "<style scoped>\n",
       "    .dataframe tbody tr th:only-of-type {\n",
       "        vertical-align: middle;\n",
       "    }\n",
       "\n",
       "    .dataframe tbody tr th {\n",
       "        vertical-align: top;\n",
       "    }\n",
       "\n",
       "    .dataframe thead th {\n",
       "        text-align: right;\n",
       "    }\n",
       "</style>\n",
       "<table border=\"1\" class=\"dataframe\">\n",
       "  <thead>\n",
       "    <tr style=\"text-align: right;\">\n",
       "      <th></th>\n",
       "      <th>Delivery Time (min)</th>\n",
       "      <th>City</th>\n",
       "    </tr>\n",
       "  </thead>\n",
       "  <tbody>\n",
       "    <tr>\n",
       "      <th>0</th>\n",
       "      <td>14.1</td>\n",
       "      <td>City A</td>\n",
       "    </tr>\n",
       "    <tr>\n",
       "      <th>1</th>\n",
       "      <td>90.3</td>\n",
       "      <td>City A</td>\n",
       "    </tr>\n",
       "    <tr>\n",
       "      <th>2</th>\n",
       "      <td>39.5</td>\n",
       "      <td>City A</td>\n",
       "    </tr>\n",
       "    <tr>\n",
       "      <th>3</th>\n",
       "      <td>27.4</td>\n",
       "      <td>City A</td>\n",
       "    </tr>\n",
       "    <tr>\n",
       "      <th>4</th>\n",
       "      <td>5.1</td>\n",
       "      <td>City A</td>\n",
       "    </tr>\n",
       "  </tbody>\n",
       "</table>\n",
       "</div>"
      ],
      "text/plain": [
       "   Delivery Time (min)    City\n",
       "0                 14.1  City A\n",
       "1                 90.3  City A\n",
       "2                 39.5  City A\n",
       "3                 27.4  City A\n",
       "4                  5.1  City A"
      ]
     },
     "execution_count": 3,
     "metadata": {},
     "output_type": "execute_result"
    }
   ],
   "source": [
    "import numpy as np\n",
    "import pandas as pd\n",
    "np.random.seed(42)\n",
    "city_A=np.random.exponential(scale=30,size=30)\n",
    "city_B=np.random.normal(loc=25,scale=5,size=30)\n",
    "city_C=np.random.exponential(scale=20,size=30)\n",
    "city_A=np.round(city_A,1)\n",
    "city_B=np.round(city_B,1)\n",
    "city_C=np.round(city_C,1)\n",
    "df_kruskal=pd.DataFrame({'Delivery Time (min)':np.concatenate([city_A,city_B,city_C]),\n",
    "                        'City':(['City A']*30)+(['City B']*30)+(['City C']*30)})\n",
    "df_kruskal.head()"
   ]
  },
  {
   "cell_type": "code",
   "execution_count": 5,
   "id": "50683ddb-3b25-4809-8ed1-c2c6d46adde0",
   "metadata": {},
   "outputs": [
    {
     "data": {
      "text/plain": [
       "KruskalResult(statistic=10.133487820739717, pvalue=0.006302909603534701)"
      ]
     },
     "execution_count": 5,
     "metadata": {},
     "output_type": "execute_result"
    }
   ],
   "source": [
    "from scipy.stats import kruskal\n",
    "kruskal(city_A,city_B,city_C)"
   ]
  },
  {
   "cell_type": "code",
   "execution_count": 7,
   "id": "b69ff797-e2b4-4d1e-bc74-af9b0c00309e",
   "metadata": {},
   "outputs": [],
   "source": [
    "# p_value is 0.0063 that means if the null hypothesis was true, then there is less than 5% chance that I would see a difference in median as \n",
    "# extreme as this just by random chance, so I reject the null hypothesis and conclude atleast one group is significantly \n",
    "# different from others."
   ]
  },
  {
   "cell_type": "code",
   "execution_count": 11,
   "id": "abd0adf3-a254-4f50-9f31-f09f9d284ea6",
   "metadata": {},
   "outputs": [
    {
     "data": {
      "text/plain": [
       "City\n",
       "City A    15.55\n",
       "City B    23.95\n",
       "City C    13.20\n",
       "Name: Delivery Time (min), dtype: float64"
      ]
     },
     "execution_count": 11,
     "metadata": {},
     "output_type": "execute_result"
    }
   ],
   "source": [
    "df_kruskal.groupby('City')['Delivery Time (min)'].median()"
   ]
  },
  {
   "cell_type": "code",
   "execution_count": 9,
   "id": "95b99174-6bbf-4d83-b026-643473f0b915",
   "metadata": {},
   "outputs": [
    {
     "data": {
      "text/html": [
       "<div>\n",
       "<style scoped>\n",
       "    .dataframe tbody tr th:only-of-type {\n",
       "        vertical-align: middle;\n",
       "    }\n",
       "\n",
       "    .dataframe tbody tr th {\n",
       "        vertical-align: top;\n",
       "    }\n",
       "\n",
       "    .dataframe thead th {\n",
       "        text-align: right;\n",
       "    }\n",
       "</style>\n",
       "<table border=\"1\" class=\"dataframe\">\n",
       "  <thead>\n",
       "    <tr style=\"text-align: right;\">\n",
       "      <th></th>\n",
       "      <th>City A</th>\n",
       "      <th>City B</th>\n",
       "      <th>City C</th>\n",
       "    </tr>\n",
       "  </thead>\n",
       "  <tbody>\n",
       "    <tr>\n",
       "      <th>City A</th>\n",
       "      <td>1.000000</td>\n",
       "      <td>0.133659</td>\n",
       "      <td>0.770196</td>\n",
       "    </tr>\n",
       "    <tr>\n",
       "      <th>City B</th>\n",
       "      <td>0.133659</td>\n",
       "      <td>1.000000</td>\n",
       "      <td>0.005017</td>\n",
       "    </tr>\n",
       "    <tr>\n",
       "      <th>City C</th>\n",
       "      <td>0.770196</td>\n",
       "      <td>0.005017</td>\n",
       "      <td>1.000000</td>\n",
       "    </tr>\n",
       "  </tbody>\n",
       "</table>\n",
       "</div>"
      ],
      "text/plain": [
       "          City A    City B    City C\n",
       "City A  1.000000  0.133659  0.770196\n",
       "City B  0.133659  1.000000  0.005017\n",
       "City C  0.770196  0.005017  1.000000"
      ]
     },
     "execution_count": 9,
     "metadata": {},
     "output_type": "execute_result"
    }
   ],
   "source": [
    "import scikit_posthocs as sp\n",
    "sp.posthoc_dunn(df_kruskal,val_col='Delivery Time (min)',group_col='City',p_adjust='bonferroni')"
   ]
  },
  {
   "cell_type": "markdown",
   "id": "1a3c048e-51f2-4ad6-ac10-accd1bb62af2",
   "metadata": {},
   "source": [
    "so now from the posthoc test we see City B vs City C p value is 0.005 so this is statistically significant\n",
    "and City C performed better than City B. From median we see that City C also performed better than City A and City A performed\n",
    "better than City B but that is statistically insignificant. So overall we can say City C is the only city with statistically \n",
    "proven better performance."
   ]
  },
  {
   "cell_type": "code",
   "execution_count": null,
   "id": "c6dda864-e101-4e14-b416-5caed978bd2f",
   "metadata": {},
   "outputs": [],
   "source": []
  }
 ],
 "metadata": {
  "kernelspec": {
   "display_name": "Python (snowflakes)",
   "language": "python",
   "name": "python3"
  },
  "language_info": {
   "codemirror_mode": {
    "name": "ipython",
    "version": 3
   },
   "file_extension": ".py",
   "mimetype": "text/x-python",
   "name": "python",
   "nbconvert_exporter": "python",
   "pygments_lexer": "ipython3",
   "version": "3.12.9"
  }
 },
 "nbformat": 4,
 "nbformat_minor": 5
}
