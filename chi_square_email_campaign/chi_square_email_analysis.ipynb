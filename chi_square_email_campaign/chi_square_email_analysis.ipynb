{
 "cells": [
  {
   "cell_type": "code",
   "execution_count": 1,
   "id": "9c9b8e15-6505-45aa-afd9-6ed7e4373b9d",
   "metadata": {},
   "outputs": [
    {
     "data": {
      "text/html": [
       "<div>\n",
       "<style scoped>\n",
       "    .dataframe tbody tr th:only-of-type {\n",
       "        vertical-align: middle;\n",
       "    }\n",
       "\n",
       "    .dataframe tbody tr th {\n",
       "        vertical-align: top;\n",
       "    }\n",
       "\n",
       "    .dataframe thead th {\n",
       "        text-align: right;\n",
       "    }\n",
       "</style>\n",
       "<table border=\"1\" class=\"dataframe\">\n",
       "  <thead>\n",
       "    <tr style=\"text-align: right;\">\n",
       "      <th></th>\n",
       "      <th>Purchased</th>\n",
       "      <th>Not Purchased</th>\n",
       "    </tr>\n",
       "  </thead>\n",
       "  <tbody>\n",
       "    <tr>\n",
       "      <th>A</th>\n",
       "      <td>40</td>\n",
       "      <td>160</td>\n",
       "    </tr>\n",
       "    <tr>\n",
       "      <th>B</th>\n",
       "      <td>70</td>\n",
       "      <td>130</td>\n",
       "    </tr>\n",
       "  </tbody>\n",
       "</table>\n",
       "</div>"
      ],
      "text/plain": [
       "   Purchased  Not Purchased\n",
       "A         40            160\n",
       "B         70            130"
      ]
     },
     "execution_count": 1,
     "metadata": {},
     "output_type": "execute_result"
    }
   ],
   "source": [
    "# chi squared test:\n",
    "# real world business problem\n",
    "import pandas as pd\n",
    "\n",
    "# Create the raw frequency data\n",
    "data = {\n",
    "    'Purchased': [40, 70],\n",
    "    'Not Purchased': [160, 130]\n",
    "}\n",
    "\n",
    "# Email versions as row labels\n",
    "df_email = pd.DataFrame(data, index=['A', 'B'])\n",
    "df_email"
   ]
  },
  {
   "cell_type": "code",
   "execution_count": 3,
   "id": "895db76d-bdf4-47cf-a7d8-214da197ae96",
   "metadata": {},
   "outputs": [
    {
     "data": {
      "text/plain": [
       "Chi2ContingencyResult(statistic=10.545454545454545, pvalue=0.001164741744509302, dof=1, expected_freq=array([[ 55., 145.],\n",
       "       [ 55., 145.]]))"
      ]
     },
     "execution_count": 3,
     "metadata": {},
     "output_type": "execute_result"
    }
   ],
   "source": [
    "from scipy.stats import chi2_contingency\n",
    "chi2_contingency(df_email)"
   ]
  },
  {
   "cell_type": "markdown",
   "id": "fe1132bc-d590-402e-8aa6-bfffa3eab619",
   "metadata": {},
   "source": [
    "pvalue is 0.001 so we interpret if null hypothesis was true then there is less than 5% chance that I would see a result this different than expected frequencies just by randomness. So we reject the null hypothesis and conclue that the correlation between email and purchase rate is statistically significant."
   ]
  },
  {
   "cell_type": "code",
   "execution_count": null,
   "id": "11e20779-7b36-461a-b374-32e55ee76510",
   "metadata": {},
   "outputs": [],
   "source": []
  }
 ],
 "metadata": {
  "kernelspec": {
   "display_name": "Python (snowflakes)",
   "language": "python",
   "name": "python3"
  },
  "language_info": {
   "codemirror_mode": {
    "name": "ipython",
    "version": 3
   },
   "file_extension": ".py",
   "mimetype": "text/x-python",
   "name": "python",
   "nbconvert_exporter": "python",
   "pygments_lexer": "ipython3",
   "version": "3.12.9"
  }
 },
 "nbformat": 4,
 "nbformat_minor": 5
}
